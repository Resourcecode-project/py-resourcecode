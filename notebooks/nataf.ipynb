{
 "cells": [
  {
   "cell_type": "code",
   "execution_count": null,
   "id": "ready-trauma",
   "metadata": {},
   "outputs": [],
   "source": [
    "import numpy as np\n",
    "import plotly.graph_objects as go\n",
    "from ipywidgets import interact\n",
    "\n",
    "import resourcecode\n",
    "from resourcecode.nataf import censgaussfit, get_gpd_parameters, run_simulation, huseby"
   ]
  },
  {
   "cell_type": "code",
   "execution_count": null,
   "id": "labeled-heaven",
   "metadata": {},
   "outputs": [],
   "source": [
    "client = resourcecode.Client()\n",
    "data = client.get_dataframe_from_criteria(\n",
    "    \"\"\"\n",
    "{\n",
    "    \"node\": 0,\n",
    "    \"start\": 961939610,\n",
    "    \"end\": 1489903600,\n",
    "    \"parameter\": [\"hs\", \"ucur\", \"vcur\"]\n",
    "}\n",
    "\"\"\"\n",
    ")"
   ]
  },
  {
   "cell_type": "code",
   "execution_count": null,
   "id": "corporate-tradition",
   "metadata": {},
   "outputs": [],
   "source": [
    "@interact(quant=(0.5, 0.9, 0.1))\n",
    "def plot_nataf(quant):\n",
    "    gauss = censgaussfit(data.values, quant).x\n",
    "    gpd_parameters = get_gpd_parameters(data, quant)\n",
    "    nataf = run_simulation(gauss, quant, gpd_parameters)\n",
    "\n",
    "    X, Y, Z, theta = huseby(nataf, np.array([0.9, 0.95, 0.975]), 120)\n",
    "\n",
    "    fig = go.Figure()\n",
    "\n",
    "    fig.add_traces(\n",
    "        [\n",
    "            go.Scatter3d(\n",
    "                x=X[:, i],\n",
    "                y=Y[:, i],\n",
    "                z=Z[:, i],\n",
    "                mode=\"lines\",\n",
    "                name=data.columns[i],\n",
    "            )\n",
    "            for i, name in enumerate(data.columns)\n",
    "        ]\n",
    "    )\n",
    "\n",
    "    fig.update_layout(\n",
    "        height=1200,\n",
    "    )\n",
    "\n",
    "    return fig"
   ]
  }
 ],
 "metadata": {
  "kernelspec": {
   "display_name": "Python 3 (ipykernel)",
   "language": "python",
   "name": "python3"
  },
  "language_info": {
   "codemirror_mode": {
    "name": "ipython",
    "version": 3
   },
   "file_extension": ".py",
   "mimetype": "text/x-python",
   "name": "python",
   "nbconvert_exporter": "python",
   "pygments_lexer": "ipython3",
   "version": "3.7.3"
  }
 },
 "nbformat": 4,
 "nbformat_minor": 5
}
