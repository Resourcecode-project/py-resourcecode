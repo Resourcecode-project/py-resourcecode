{
 "cells": [
  {
   "cell_type": "markdown",
   "id": "certified-shuttle",
   "metadata": {},
   "source": [
    "# Operationnal Planning"
   ]
  },
  {
   "cell_type": "code",
   "execution_count": null,
   "id": "accessible-mixture",
   "metadata": {},
   "outputs": [],
   "source": [
    "import calendar\n",
    "from datetime import datetime\n",
    "\n",
    "import plotly.graph_objects as go\n",
    "from plotly.subplots import make_subplots\n",
    "from ipywidgets import widgets\n",
    "from ipydatetime import NaiveDatetimePicker\n",
    "from IPython.display import display, clear_output, Markdown\n",
    "\n",
    "from resourcecode import Client\n",
    "from resourcecode.opsplanning import ww_calc, wwmonstats, olmonstats, oplen_calc\n",
    "\n",
    "MONTH_NAMES = list(calendar.month_name)\n",
    "\n",
    "\n",
    "class SearchAlgo:\n",
    "    CONTINUOUS = \"Continuous windows (ie critical operations)\"\n",
    "    CONCURRENT = \"Concurrent windows (ie, non-critical operations)\"\n",
    "\n",
    "\n",
    "class ComputationMode:\n",
    "    EACH_MONTH = \"Each month\"\n",
    "    SPECIFIC_DATE = \"Specificy datetime\"\n",
    "\n",
    "\n",
    "client = Client()\n",
    "data = None\n",
    "percentiles = [0.01, 0.05, 0.25, 0.5, 0.75, 0.95, 0.99]\n",
    "\n",
    "output = widgets.Output()\n",
    "output_operation_plot_widgets = widgets.Output()\n",
    "output_weather_window_plot = widgets.Output()\n",
    "output_operation_plot = widgets.Output()"
   ]
  },
  {
   "cell_type": "code",
   "execution_count": null,
   "id": "aboriginal-climate",
   "metadata": {},
   "outputs": [],
   "source": [
    "def update_dataframe(change_url):\n",
    "    global data\n",
    "    with output:\n",
    "        clear_output()\n",
    "        display(Markdown(\"The new selection is {new}\".format(**change_url)))\n",
    "        display(Markdown(\"Will re-compute the data end rerender the graphs\"))\n",
    "\n",
    "    data = client.get_dataframe_from_url(change_url[\"new\"], parameters=(\"hs\", \"tp\"))\n",
    "    update_plots()\n",
    "\n",
    "\n",
    "def update_plots(event=None):\n",
    "    update_weather_window_plot(event)\n",
    "    update_operation_plot(event)\n",
    "\n",
    "\n",
    "def update_weather_window_plot(event=None):\n",
    "    if data is None:\n",
    "        return\n",
    "    data_matching_criteria = data.query(criteria_widget.value)\n",
    "    with output_weather_window_plot:\n",
    "        clear_output(wait=True)\n",
    "        display(\n",
    "            plot_wwmonstats(\n",
    "                data_matching_criteria,\n",
    "                winlen=winlen_widget.value,\n",
    "                concurrent_windows=concurrent_windows_widget.value\n",
    "                == SearchAlgo.CONCURRENT,\n",
    "            )\n",
    "        )\n",
    "\n",
    "\n",
    "def update_operation_plot(event=None):\n",
    "    if data is None:\n",
    "        return\n",
    "\n",
    "    data_matching_criteria = data.query(criteria_widget.value)\n",
    "    if computation_mode_widget.value == ComputationMode.EACH_MONTH:\n",
    "        monstrt = True\n",
    "        date = startday_widget.value\n",
    "    else:\n",
    "        monstrt = False\n",
    "        date = datetime_widget.value\n",
    "\n",
    "    with output_operation_plot:\n",
    "        clear_output(wait=True)\n",
    "        display(\n",
    "            plot_olmonstats(\n",
    "                data_matching_criteria,\n",
    "                oplen=winlen_widget.value,\n",
    "                critical_operation=concurrent_windows_widget.value\n",
    "                == SearchAlgo.CONTINUOUS,\n",
    "                date=date,\n",
    "                monstrt=monstrt,\n",
    "            )\n",
    "        )"
   ]
  },
  {
   "cell_type": "code",
   "execution_count": null,
   "id": "worth-standard",
   "metadata": {
    "tags": []
   },
   "outputs": [],
   "source": [
    "url_widget = widgets.Text(\n",
    "    value=\"\",\n",
    "    placeholder=\"Paste the URL of your selection\",\n",
    "    description=\"Selection:\",\n",
    "    continuous_update=False,\n",
    ")\n",
    "\n",
    "criteria_widget = widgets.Text(\n",
    "    value=\"hs < 2 and tp < 3\",\n",
    "    description=\"Operational criteria:\",\n",
    "    continuous_update=False,\n",
    ")\n",
    "\n",
    "concurrent_windows_widget = widgets.RadioButtons(\n",
    "    options=[SearchAlgo.CONTINUOUS, SearchAlgo.CONCURRENT],\n",
    "    layout={\"width\": \"max-content\"},\n",
    "    description=\"Algorithm configuration:\",\n",
    ")\n",
    "\n",
    "winlen_widget = widgets.IntSlider(\n",
    "    value=3,\n",
    "    min=1,\n",
    "    max=24,\n",
    "    step=1,\n",
    "    description=\"weather window length (hrs):\",\n",
    "    continuous_update=False,\n",
    "    orientation=\"horizontal\",\n",
    "    readout=True,\n",
    "    readout_format=\"d\",\n",
    ")\n",
    "\n",
    "oplen_widget = widgets.IntSlider(\n",
    "    value=3,\n",
    "    min=1,\n",
    "    max=24,\n",
    "    step=1,\n",
    "    description=\"Nominal length of operation (hrs):\",\n",
    "    continuous_update=False,\n",
    "    orientation=\"horizontal\",\n",
    "    readout=True,\n",
    "    readout_format=\"d\",\n",
    ")\n",
    "\n",
    "computation_mode_widget = widgets.RadioButtons(\n",
    "    options=[ComputationMode.EACH_MONTH, ComputationMode.SPECIFIC_DATE],\n",
    "    layout={\"width\": \"max-content\"},\n",
    "    description=\"Computation mode:\",\n",
    ")\n",
    "\n",
    "datetime_widget = NaiveDatetimePicker(\n",
    "    description=\"Pick a Date\",\n",
    "    value=datetime.fromisoformat(client.config.get(\"default\", \"min-start-date\")),\n",
    "    continuous_update=False,\n",
    ")\n",
    "\n",
    "startday_widget = widgets.IntSlider(\n",
    "    value=1,\n",
    "    min=1,\n",
    "    max=31,\n",
    "    step=1,\n",
    "    description=\"Starting day\",\n",
    "    continuous_update=False,\n",
    "    orientation=\"horizontal\",\n",
    "    readout=True,\n",
    "    readout_format=\"d\",\n",
    ")\n",
    "\n",
    "\n",
    "def update_operation_plot_widgets(event=None):\n",
    "    with output_operation_plot_widgets:\n",
    "        clear_output()\n",
    "        if computation_mode_widget.value == ComputationMode.EACH_MONTH:\n",
    "            display(startday_widget)\n",
    "        else:\n",
    "            display(datetime_widget)\n",
    "    update_operation_plot(event)\n",
    "\n",
    "\n",
    "url_widget.observe(update_dataframe, \"value\")\n",
    "criteria_widget.observe(update_plots, \"value\")\n",
    "concurrent_windows_widget.observe(update_plots, \"value\")\n",
    "winlen_widget.observe(update_weather_window_plot, \"value\")\n",
    "oplen_widget.observe(update_operation_plot, \"value\")\n",
    "computation_mode_widget.observe(update_operation_plot_widgets, \"value\")\n",
    "datetime_widget.observe(update_operation_plot, \"value\")\n",
    "startday_widget.observe(update_operation_plot, \"value\")"
   ]
  },
  {
   "cell_type": "code",
   "execution_count": null,
   "id": "anonymous-bobby",
   "metadata": {
    "tags": [
     "parameters"
    ]
   },
   "outputs": [],
   "source": [
    "flex_orientation = \"rows\""
   ]
  },
  {
   "cell_type": "markdown",
   "id": "thousand-momentum",
   "metadata": {
    "tags": [
     "sidebar"
    ]
   },
   "source": [
    "## Configurations"
   ]
  },
  {
   "cell_type": "markdown",
   "id": "demonstrated-martin",
   "metadata": {},
   "source": [
    "### Configuration"
   ]
  },
  {
   "cell_type": "code",
   "execution_count": null,
   "id": "cooked-lender",
   "metadata": {
    "tags": [
     "body"
    ]
   },
   "outputs": [],
   "source": [
    "display(url_widget)\n",
    "display(criteria_widget)\n",
    "display(concurrent_windows_widget)\n",
    "display(output)"
   ]
  },
  {
   "cell_type": "markdown",
   "id": "technical-mediterranean",
   "metadata": {
    "tags": [
     "tabs"
    ]
   },
   "source": [
    "## Computation"
   ]
  },
  {
   "cell_type": "markdown",
   "id": "continued-forth",
   "metadata": {},
   "source": [
    "### Weather window"
   ]
  },
  {
   "cell_type": "code",
   "execution_count": null,
   "id": "immediate-homework",
   "metadata": {
    "tags": [
     "body"
    ]
   },
   "outputs": [],
   "source": [
    "display(winlen_widget)\n",
    "display(output_weather_window_plot)"
   ]
  },
  {
   "cell_type": "code",
   "execution_count": null,
   "id": "incomplete-china",
   "metadata": {},
   "outputs": [],
   "source": [
    "def plot_wwmonstats(data, winlen, concurrent_windows):\n",
    "    windetect = ww_calc(data, winlen=winlen, concurrent_windows=concurrent_windows)\n",
    "    results = wwmonstats(windetect)\n",
    "    stats = results.describe(percentiles=percentiles).transpose()\n",
    "\n",
    "    fig = make_subplots(rows=2, cols=1)\n",
    "    for colname in stats.columns:\n",
    "        fig.append_trace(\n",
    "            go.Scatter(\n",
    "                x=[MONTH_NAMES[i] for i in stats.index],\n",
    "                y=stats[colname],\n",
    "                name=colname,\n",
    "                legendgroup=\"by_month\",\n",
    "            ),\n",
    "            row=1,\n",
    "            col=1,\n",
    "        )\n",
    "\n",
    "    for month_idx in results.columns:\n",
    "        fig.append_trace(\n",
    "            go.Scatter(\n",
    "                x=results.index,\n",
    "                y=results[month_idx],\n",
    "                name=MONTH_NAMES[month_idx],\n",
    "                legendgroup=\"by_year\",\n",
    "            ),\n",
    "            row=2,\n",
    "            col=1,\n",
    "        )\n",
    "\n",
    "    fig.update_xaxes(title_text=\"Month\", row=1, col=1)\n",
    "    fig.update_yaxes(title_text=\"Number of Weather Window\", row=1, col=1)\n",
    "    fig.update_xaxes(title_text=\"Year\", row=2, col=1)\n",
    "    fig.update_yaxes(title_text=\"Number of Weather Window\", row=2, col=1)\n",
    "    fig.update_layout(\n",
    "        height=800,\n",
    "        legend_tracegroupgap=130,\n",
    "        title=f\"Monthly statistics of number of weather window ({concurrent_windows_widget.value})\",\n",
    "    )\n",
    "    return fig"
   ]
  },
  {
   "cell_type": "markdown",
   "id": "national-karen",
   "metadata": {
    "tags": []
   },
   "source": [
    "### Operational planning"
   ]
  },
  {
   "cell_type": "code",
   "execution_count": null,
   "id": "consecutive-brass",
   "metadata": {
    "tags": [
     "body"
    ]
   },
   "outputs": [],
   "source": [
    "display(oplen_widget)\n",
    "display(computation_mode_widget)\n",
    "display(output_operation_plot_widgets)\n",
    "display(output_operation_plot)\n",
    "\n",
    "update_operation_plot_widgets()"
   ]
  },
  {
   "cell_type": "code",
   "execution_count": null,
   "id": "conscious-proof",
   "metadata": {},
   "outputs": [],
   "source": [
    "def plot_olmonstats(data, oplen, critical_operation, date, monstrt):\n",
    "    oplendetect = oplen_calc(\n",
    "        data,\n",
    "        oplen=oplen,\n",
    "        critical_operation=critical_operation,\n",
    "        date=date,\n",
    "        monstrt=monstrt,\n",
    "    )\n",
    "    results = olmonstats(oplendetect)\n",
    "    stats = results.describe(percentiles=percentiles).transpose()\n",
    "\n",
    "    fig = make_subplots(rows=2, cols=1)\n",
    "    for colname in stats.columns:\n",
    "        fig.append_trace(\n",
    "            go.Scatter(\n",
    "                x=[MONTH_NAMES[i] for i in stats.index],\n",
    "                y=stats[colname],\n",
    "                name=colname,\n",
    "                legendgroup=\"by_month\",\n",
    "            ),\n",
    "            row=1,\n",
    "            col=1,\n",
    "        )\n",
    "\n",
    "    for month_idx in results.columns:\n",
    "        fig.append_trace(\n",
    "            go.Scatter(\n",
    "                x=results.index,\n",
    "                y=results[month_idx],\n",
    "                name=MONTH_NAMES[month_idx],\n",
    "                legendgroup=\"by_year\",\n",
    "            ),\n",
    "            row=2,\n",
    "            col=1,\n",
    "        )\n",
    "\n",
    "    fig.update_xaxes(title_text=\"Month\", row=1, col=1)\n",
    "    fig.update_yaxes(title_text=\"Number of Weather Window\", row=1, col=1)\n",
    "    fig.update_xaxes(title_text=\"Year\", row=2, col=1)\n",
    "    fig.update_yaxes(title_text=\"Number of Weather Window\", row=2, col=1)\n",
    "    fig.update_layout(\n",
    "        height=800,\n",
    "        legend_tracegroupgap=130,\n",
    "        title=f\"Monthly statistics of number of weather window ({concurrent_windows_widget.value})\",\n",
    "    )\n",
    "    return fig"
   ]
  }
 ],
 "metadata": {
  "kernelspec": {
   "display_name": "Python 3",
   "language": "python",
   "name": "python3"
  },
  "language_info": {
   "codemirror_mode": {
    "name": "ipython",
    "version": 3
   },
   "file_extension": ".py",
   "mimetype": "text/x-python",
   "name": "python",
   "nbconvert_exporter": "python",
   "pygments_lexer": "ipython3",
   "version": "3.7.3"
  },
  "toc-showcode": true,
  "toc-showmarkdowntxt": true,
  "toc-showtags": false
 },
 "nbformat": 4,
 "nbformat_minor": 5
}
