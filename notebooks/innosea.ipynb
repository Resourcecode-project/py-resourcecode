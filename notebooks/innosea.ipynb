{
 "cells": [
  {
   "cell_type": "code",
   "execution_count": 1,
   "id": "ready-trauma",
   "metadata": {},
   "outputs": [],
   "source": [
    "from pathlib import Path\n",
    "import numpy as np\n",
    "import pandas as pd\n",
    "import matplotlib.pyplot as plt\n",
    "\n",
    "import resourcecode\n",
    "from resourcecode import innosea\n",
    "\n",
    "%matplotlib widget"
   ]
  },
  {
   "cell_type": "markdown",
   "id": "7fe594d0-24c2-4357-a7dc-d7bcbf3d8d6b",
   "metadata": {},
   "source": [
    "# load WEC capture width"
   ]
  },
  {
   "cell_type": "code",
   "execution_count": 2,
   "id": "9e901f81-d92e-418b-9f79-6619bab3cfb5",
   "metadata": {},
   "outputs": [],
   "source": [
    "INNOSEA_DATA_DIR = Path(innosea.__file__).parent / \"Inputs\"\n",
    "capture_width_path = INNOSEA_DATA_DIR / \"capture_width.csv\"\n",
    "freq_path = INNOSEA_DATA_DIR / \"Frequencies.csv\"\n",
    "pto_data_path = INNOSEA_DATA_DIR / \"PTO_values.csv\""
   ]
  },
  {
   "cell_type": "code",
   "execution_count": 3,
   "id": "aeda3a2b-dffe-4884-a2ca-3917fec9c445",
   "metadata": {},
   "outputs": [],
   "source": [
    "capture_width = pd.read_csv(capture_width_path, delimiter=\",\", header=None)\n",
    "freq = pd.read_csv(freq_path, delimiter=\",\", header=None)\n",
    "pto_values = pd.read_csv(pto_data_path, delimiter=\",\", header=None)\n",
    "capture_width.columns = pto_values.values.tolist()[0]\n",
    "capture_width.index = [val for sublist in freq.values.tolist() for val in sublist]"
   ]
  },
  {
   "cell_type": "markdown",
   "id": "d0bbfa7c-5113-47e1-ab4d-fb8db5161498",
   "metadata": {},
   "source": [
    "# load hs/tp data\n",
    "\n",
    "Loads Hs and Tp time series from cassandra, stores it as a pandas.DataFrame"
   ]
  },
  {
   "cell_type": "code",
   "execution_count": 4,
   "id": "labeled-heaven",
   "metadata": {},
   "outputs": [],
   "source": [
    "client = resourcecode.Client()\n",
    "wave_data = client.get_dataframe_from_criteria(\n",
    "    \"\"\"\n",
    "    {\n",
    "        \"node\": 0,\n",
    "        \"start\": 961939610,\n",
    "        \"end\": 1489903600,\n",
    "        \"parameter\": [\"hs\", \"tp\"]\n",
    "    }\n",
    "    \"\"\"\n",
    ")"
   ]
  },
  {
   "cell_type": "markdown",
   "id": "dc11c980-0dc6-45e8-8a91-254a87d573b1",
   "metadata": {},
   "source": [
    "# create wave spectrum\n",
    "Creates JONSWAP wave spectrum time series from Hs and Tp time series"
   ]
  },
  {
   "cell_type": "code",
   "execution_count": 5,
   "id": "9c815499-2e3c-4f45-9b06-b87d30a8b435",
   "metadata": {},
   "outputs": [
    {
     "name": "stdout",
     "output_type": "stream",
     "text": [
      "2054.702760147\n",
      "358.6240651019998\n"
     ]
    }
   ],
   "source": [
    "freq_vec = capture_width.index\n",
    "spectrum = innosea.create_wave_spectrum(wave_data, freq_vec)"
   ]
  },
  {
   "cell_type": "markdown",
   "id": "b3a6e2f3-13d4-46f8-99f2-3730bc2ec32f",
   "metadata": {},
   "source": [
    "# set PTO\n",
    "\n",
    "PTO object, storing capture width, wave spectrum, and computing PTO data such as time series of wave power, absorbed power, mean power, median power, PTO damping\n"
   ]
  },
  {
   "cell_type": "code",
   "execution_count": null,
   "id": "corporate-tradition",
   "metadata": {},
   "outputs": [],
   "source": [
    "pto = innosea.PTO(capture_width, spectrum)"
   ]
  },
  {
   "cell_type": "markdown",
   "id": "894e26ce-3254-4662-aed5-f6c905cff754",
   "metadata": {},
   "source": [
    "# plot time series\n",
    "Plot PTO results time series in 3 subplots: wave power, absorbed/mean power\n",
    "    with/without reduction factor, PTO damping with/without reduction factor.\n",
    "    Power is converted from W to kW, damping from Ns/m to kNs/m."
   ]
  },
  {
   "cell_type": "code",
   "execution_count": null,
   "id": "e6c622ec-4658-4bdd-8ba8-c599321b070c",
   "metadata": {},
   "outputs": [],
   "source": [
    "# wave power\n",
    "fig, (ax1, ax2, ax3) = plt.subplots(3, 1, figsize=(10, 10))\n",
    "ax1.plot(pto.wave_power.div(1000 * pto.width))\n",
    "ax1.legend([\"Wave power\"])\n",
    "ax1.grid()\n",
    "ax1.set(xlabel=\"Time\", ylabel=\"Power (kW/m)\")\n",
    "# absorbed/mean power\n",
    "all_time_series = [\n",
    "    pto.power,\n",
    "    pto.power_no_red,\n",
    "    pto.mean_power,\n",
    "    pto.mean_power_no_red,\n",
    "]\n",
    "linestyles = [\"solid\", \"dashed\", \"solid\", \"dashed\"]\n",
    "for time_series, linestyle in zip(all_time_series, linestyles):\n",
    "    ax2.plot(time_series.div(1000), linestyle=linestyle)\n",
    "ax2.legend(\n",
    "    [\n",
    "        \"Absorbed power (with reduction factor)\",\n",
    "        \"Absorbed power (without reduction factor)\",\n",
    "        \"Mean power (with reduction factor)\",\n",
    "        \"Mean power (without reduction factor)\",\n",
    "    ]\n",
    ")\n",
    "ax2.grid()\n",
    "ax2.set(xlabel=\"Time\", ylabel=\"Power (kW)\")\n",
    "# PTO damping\n",
    "all_time_series = [pto.pto_damp, pto.pto_damp_no_red]\n",
    "for time_series, linestyle in zip(all_time_series, linestyles):\n",
    "    ax3.plot(time_series.div(1000), linestyle=linestyle)\n",
    "ax3.legend(\n",
    "    [\n",
    "        \"PTO damping (with reduction factor)\",\n",
    "        \"PTO damping (without reduction factor)\",\n",
    "    ]\n",
    ")\n",
    "ax3.grid()\n",
    "ax3.set(xlabel=\"Time\", ylabel=\"Damping (kN.s/m)\")"
   ]
  },
  {
   "cell_type": "markdown",
   "id": "d66336d1-f910-4bf0-9d8f-815fe5dc4312",
   "metadata": {},
   "source": [
    "# plot_cumulative_power\n",
    "\n",
    "Plot PTO cumulative power. Power is converted from W to kW"
   ]
  },
  {
   "cell_type": "code",
   "execution_count": null,
   "id": "b14ef211-2081-4b26-b580-ce3f4a11b6b4",
   "metadata": {},
   "outputs": [],
   "source": [
    "power_kw = pto.power.div(1000)\n",
    "# cumulative power\n",
    "cumulative_power_kw = pto.cumulative_power\n",
    "power_ordered = pto.power.sort_values(by=0)\n",
    "index = [x / 1000 for x in power_ordered[0]]\n",
    "cumulative_power_kw.index = index\n",
    "# mean power\n",
    "mean_power_kw = pto.mean_power[0][pto.times[0]] / 1000\n",
    "# median power\n",
    "median_power_kw = pto.median_power[0][pto.times[0]] / 1000\n",
    "# power occurrences, cumulative power, mean and median power\n",
    "ax = power_kw.plot.hist(\n",
    "    bins=len(pto.capture_width.columns) * 5,\n",
    "    legend=False,\n",
    "    weights=np.ones_like(power_kw[power_kw.columns[0]]) * 100.0 / len(power_kw),\n",
    ")\n",
    "ax1 = ax.twinx()\n",
    "cumulative_power_kw.plot(ax=ax1, legend=False, color=\"r\")\n",
    "ax.grid()\n",
    "ax.set_xlabel(\"WEC Power (kW)\")\n",
    "ax.set_ylabel(\"Occurrence (%)\")\n",
    "ax1.set_ylabel(\"Normed Cumulative Production (%)\")\n",
    "line_mean = plt.axvline(x=mean_power_kw, color=\"y\")\n",
    "line_median = plt.axvline(x=median_power_kw, color=\"orange\")\n",
    "ax.legend([line_mean, line_median], [\"Mean power\", \"Median power\"])"
   ]
  },
  {
   "cell_type": "markdown",
   "id": "07031803-0e6a-428a-b57c-f1ef2a12a150",
   "metadata": {},
   "source": [
    "# plot PTO histogram"
   ]
  },
  {
   "cell_type": "code",
   "execution_count": null,
   "id": "08edd911-1254-498b-8f61-a6efbc52ef4d",
   "metadata": {},
   "outputs": [],
   "source": [
    "pto_damp_kn = pto.pto_damp / 1000\n",
    "ax = pto_damp_kn.plot.hist(\n",
    "    bins=len(pto.capture_width.columns),\n",
    "    legend=False,\n",
    "    weights=np.ones_like(pto_damp_kn[pto_damp_kn.columns[0]])\n",
    "    * 100.0\n",
    "    / len(pto_damp_kn),\n",
    ")\n",
    "ax.grid()\n",
    "ax.set_xlabel(\"PTO damping (kN.s/m)\")\n",
    "ax.set_ylabel(\"Occurrence (%)\")"
   ]
  }
 ],
 "metadata": {
  "kernelspec": {
   "display_name": "Python 3 (ipykernel)",
   "language": "python",
   "name": "python3"
  },
  "language_info": {
   "codemirror_mode": {
    "name": "ipython",
    "version": 3
   },
   "file_extension": ".py",
   "mimetype": "text/x-python",
   "name": "python",
   "nbconvert_exporter": "python",
   "pygments_lexer": "ipython3",
   "version": "3.7.3"
  }
 },
 "nbformat": 4,
 "nbformat_minor": 5
}
