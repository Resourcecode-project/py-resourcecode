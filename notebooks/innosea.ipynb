{
 "cells": [
  {
   "cell_type": "markdown",
   "id": "44a3c346-5be2-4de7-8451-a7c1ad725825",
   "metadata": {},
   "source": [
    "# INNOSEA"
   ]
  },
  {
   "cell_type": "code",
   "execution_count": 1,
   "id": "3212c4b8-f001-42bb-843d-546961173820",
   "metadata": {},
   "outputs": [],
   "source": [
    "from pathlib import Path\n",
    "import numpy as np\n",
    "import pandas as pd\n",
    "import matplotlib.pyplot as plt\n",
    "from IPython.display import display, clear_output\n",
    "import ipywidgets as widgets\n",
    "import io\n",
    "\n",
    "import resourcecode\n",
    "from resourcecode import innosea\n",
    "\n",
    "%matplotlib widget\n",
    "output_message = widgets.Output()\n",
    "output_plot1 = widgets.Output()\n",
    "output_plot2 = widgets.Output()\n",
    "\n",
    "# load WEC capture width\n",
    "INNOSEA_DATA_DIR = Path(innosea.__file__).parent / \"Inputs\"\n",
    "capture_width_path = INNOSEA_DATA_DIR / \"capture_width.csv\"\n",
    "freq_path = INNOSEA_DATA_DIR / \"Frequencies.csv\"\n",
    "pto_data_path = INNOSEA_DATA_DIR / \"PTO_values.csv\""
   ]
  },
  {
   "cell_type": "markdown",
   "id": "5efab8d1-2865-471d-806c-46c7e567ea15",
   "metadata": {},
   "source": [
    "## You can keep default or choose custom files"
   ]
  },
  {
   "cell_type": "code",
   "execution_count": 2,
   "id": "f95260f1-b129-4640-8146-5b863af86b88",
   "metadata": {},
   "outputs": [
    {
     "data": {
      "application/vnd.jupyter.widget-view+json": {
       "model_id": "1e84dbf402e04f91b9c4b9eee1fc49e2",
       "version_major": 2,
       "version_minor": 0
      },
      "text/plain": [
       "FileUpload(value={}, accept='csv', description='capture width')"
      ]
     },
     "metadata": {},
     "output_type": "display_data"
    },
    {
     "data": {
      "application/vnd.jupyter.widget-view+json": {
       "model_id": "e6551d7a36114fdbb7e8f7999dd1b68d",
       "version_major": 2,
       "version_minor": 0
      },
      "text/plain": [
       "FileUpload(value={}, accept='csv', description='frequence')"
      ]
     },
     "metadata": {},
     "output_type": "display_data"
    },
    {
     "data": {
      "application/vnd.jupyter.widget-view+json": {
       "model_id": "a0cdb1c4a8aa4ab9bb5e5e352d38bca8",
       "version_major": 2,
       "version_minor": 0
      },
      "text/plain": [
       "FileUpload(value={}, accept='csv', description='pto_data')"
      ]
     },
     "metadata": {},
     "output_type": "display_data"
    }
   ],
   "source": [
    "capture_width_file = widgets.FileUpload(accept=\"csv\", description=\"capture width\")\n",
    "freq_file = widgets.FileUpload(accept=\"csv\", description=\"frequence\")\n",
    "pto_data_file = widgets.FileUpload(accept=\"csv\", description=\"pto_data\")\n",
    "display(capture_width_file)\n",
    "display(freq_file)\n",
    "display(pto_data_file)"
   ]
  },
  {
   "cell_type": "code",
   "execution_count": 3,
   "id": "9ded8a24-5cbc-4ae5-b307-bf70c7206f90",
   "metadata": {},
   "outputs": [],
   "source": [
    "capture_width_data = capture_width_path\n",
    "if capture_width_file.value:\n",
    "    filename = next(iter(capture_width_file.value))\n",
    "    capture_width_data = io.BytesIO(capture_width_file.value[filename][\"content\"])\n",
    "freq_data = freq_path\n",
    "if freq_file.value:\n",
    "    filename = next(iter(freq_file.value))\n",
    "    freq_data = io.BytesIO(freq_file.value[filename][\"content\"])\n",
    "pto_data = pto_data_path\n",
    "if pto_data_file.value:\n",
    "    filename = next(iter(pto_data_file.value))\n",
    "    pto_data = io.BytesIO(pto_data_file.value[filename][\"content\"])"
   ]
  },
  {
   "cell_type": "code",
   "execution_count": 4,
   "id": "8ce27364-afa5-4d3c-b3c0-dfb2d9406fd2",
   "metadata": {},
   "outputs": [],
   "source": [
    "def plot_time_series(pto):\n",
    "    \"\"\"Plot PTO results time series in 3 subplots: wave power, absorbed/mean power\n",
    "    with/without reduction factor, PTO damping with/without reduction factor.\n",
    "    Power is converted from W to kW, damping from Ns/m to kNs/m.\n",
    "\n",
    "    :param pto: PTO object\n",
    "    :type pto: PTO\"\"\"\n",
    "\n",
    "    with output_plot1:\n",
    "        # wave power\n",
    "        fig, (ax1, ax2, ax3) = plt.subplots(3, 1, figsize=(10, 10))\n",
    "        ax1.plot(pto.wave_power.div(1000 * pto.width))\n",
    "        ax1.legend([\"Wave power\"])\n",
    "        ax1.grid()\n",
    "        ax1.set(xlabel=\"Time\", ylabel=\"Power (kW/m)\")\n",
    "        # absorbed/mean power\n",
    "        all_time_series = [\n",
    "            pto.power,\n",
    "            pto.power_no_red,\n",
    "            pto.mean_power,\n",
    "            pto.mean_power_no_red,\n",
    "        ]\n",
    "        linestyles = [\"solid\", \"dashed\", \"solid\", \"dashed\"]\n",
    "        for time_series, linestyle in zip(all_time_series, linestyles):\n",
    "            ax2.plot(time_series.div(1000), linestyle=linestyle)\n",
    "        ax2.legend(\n",
    "            [\n",
    "                \"Absorbed power (with reduction factor)\",\n",
    "                \"Absorbed power (without reduction factor)\",\n",
    "                \"Mean power (with reduction factor)\",\n",
    "                \"Mean power (without reduction factor)\",\n",
    "            ]\n",
    "        )\n",
    "        ax2.grid()\n",
    "        ax2.set(xlabel=\"Time\", ylabel=\"Power (kW)\")\n",
    "        # PTO damping\n",
    "        all_time_series = [pto.pto_damp, pto.pto_damp_no_red]\n",
    "        for time_series, linestyle in zip(all_time_series, linestyles):\n",
    "            ax3.plot(time_series.div(1000), linestyle=linestyle)\n",
    "        ax3.legend(\n",
    "            [\n",
    "                \"PTO damping (with reduction factor)\",\n",
    "                \"PTO damping (without reduction factor)\",\n",
    "            ]\n",
    "        )\n",
    "        ax3.grid()\n",
    "        ax3.set(xlabel=\"Time\", ylabel=\"Damping (kN.s/m)\")"
   ]
  },
  {
   "cell_type": "code",
   "execution_count": 5,
   "id": "9adf8797-de66-4d09-a8b0-9665140cf3e1",
   "metadata": {},
   "outputs": [],
   "source": [
    "def plot_cumulative_power(pto):\n",
    "    \"\"\"Plot PTO cumulative power. Power is converted from W to kW\n",
    "\n",
    "    :param pto: PTO object\n",
    "    :type pto: PTO\"\"\"\n",
    "\n",
    "    with output_plot2:\n",
    "        # absorbed power\n",
    "\n",
    "        power_kw = pto.power.div(1000)\n",
    "        # cumulative power\n",
    "        cumulative_power_kw = pto.cumulative_power\n",
    "        power_ordered = pto.power.sort_values(by=0)\n",
    "        index = [x / 1000 for x in power_ordered[0]]\n",
    "        cumulative_power_kw.index = index\n",
    "        # mean power\n",
    "        mean_power_kw = pto.mean_power[0][pto.times[0]] / 1000\n",
    "        # median power\n",
    "        median_power_kw = pto.median_power[0][pto.times[0]] / 1000\n",
    "        # power occurrences, cumulative power, mean and median power\n",
    "        ax = power_kw.plot.hist(\n",
    "            bins=len(pto.capture_width.columns) * 5,\n",
    "            legend=False,\n",
    "            weights=np.ones_like(power_kw[power_kw.columns[0]]) * 100.0 / len(power_kw),\n",
    "        )\n",
    "        ax1 = ax.twinx()\n",
    "        cumulative_power_kw.plot(ax=ax1, legend=False, color=\"r\")\n",
    "        ax.grid()\n",
    "        ax.set_xlabel(\"WEC Power (kW)\")\n",
    "        ax.set_ylabel(\"Occurrence (%)\")\n",
    "        ax1.set_ylabel(\"Normed Cumulative Production (%)\")\n",
    "        line_mean = plt.axvline(x=mean_power_kw, color=\"y\")\n",
    "        line_median = plt.axvline(x=median_power_kw, color=\"orange\")\n",
    "        ax.legend([line_mean, line_median], [\"Mean power\", \"Median power\"])\n",
    "\n",
    "        # plot PTO histogram\n",
    "        pto_damp_kn = pto.pto_damp / 1000\n",
    "        ax = pto_damp_kn.plot.hist(\n",
    "            bins=len(pto.capture_width.columns),\n",
    "            legend=False,\n",
    "            weights=np.ones_like(pto_damp_kn[pto_damp_kn.columns[0]])\n",
    "            * 100.0\n",
    "            / len(pto_damp_kn),\n",
    "        )\n",
    "        ax.grid()\n",
    "        ax.set_xlabel(\"PTO damping (kN.s/m)\")\n",
    "        ax.set_ylabel(\"Occurrence (%)\")\n",
    "        # Plot PTO cumulative power. Power is converted from W to kW\n",
    "        power_kw = pto.power.div(1000)\n",
    "        # cumulative power\n",
    "        cumulative_power_kw = pto.cumulative_power\n",
    "        power_ordered = pto.power.sort_values(by=0)\n",
    "        index = [x / 1000 for x in power_ordered[0]]\n",
    "        cumulative_power_kw.index = index\n",
    "        # mean power\n",
    "        mean_power_kw = pto.mean_power[0][pto.times[0]] / 1000\n",
    "        # median power\n",
    "        median_power_kw = pto.median_power[0][pto.times[0]] / 1000\n",
    "        # power occurrences, cumulative power, mean and median power\n",
    "        ax = power_kw.plot.hist(\n",
    "            bins=len(pto.capture_width.columns) * 5,\n",
    "            legend=False,\n",
    "            weights=np.ones_like(power_kw[power_kw.columns[0]]) * 100.0 / len(power_kw),\n",
    "        )\n",
    "        ax1 = ax.twinx()\n",
    "        cumulative_power_kw.plot(ax=ax1, legend=False, color=\"r\")\n",
    "        ax.grid()\n",
    "        ax.set_xlabel(\"WEC Power (kW)\")\n",
    "        ax.set_ylabel(\"Occurrence (%)\")\n",
    "        ax1.set_ylabel(\"Normed Cumulative Production (%)\")\n",
    "        line_mean = plt.axvline(x=mean_power_kw, color=\"y\")\n",
    "        line_median = plt.axvline(x=median_power_kw, color=\"orange\")\n",
    "        ax.legend([line_mean, line_median], [\"Mean power\", \"Median power\"])\n",
    "\n",
    "        # plot PTO histogram\n",
    "        pto_damp_kn = pto.pto_damp / 1000\n",
    "        ax = pto_damp_kn.plot.hist(\n",
    "            bins=len(pto.capture_width.columns),\n",
    "            legend=False,\n",
    "            weights=np.ones_like(pto_damp_kn[pto_damp_kn.columns[0]])\n",
    "            * 100.0\n",
    "            / len(pto_damp_kn),\n",
    "        )\n",
    "        ax.grid()\n",
    "        ax.set_xlabel(\"PTO damping (kN.s/m)\")\n",
    "        ax.set_ylabel(\"Occurrence (%)\")"
   ]
  },
  {
   "cell_type": "code",
   "execution_count": 6,
   "id": "9d899620-211f-4519-89dd-88c97be7619a",
   "metadata": {},
   "outputs": [],
   "source": [
    "progress = widgets.FloatProgress(value=0.0, min=0.0, max=1.0)\n",
    "\n",
    "\n",
    "def on_button_clicked(b):\n",
    "    progress.value = 0.0\n",
    "    with output_message:\n",
    "        display(progress)\n",
    "    capture_width = pd.read_csv(capture_width_data, delimiter=\",\", header=None)\n",
    "    freq = pd.read_csv(freq_data, delimiter=\",\", header=None)\n",
    "    pto_values = pd.read_csv(pto_data, delimiter=\",\", header=None)\n",
    "    capture_width.columns = pto_values.values.tolist()[0]\n",
    "    capture_width.index = [val for sublist in freq.values.tolist() for val in sublist]\n",
    "    progress.value = 0.1\n",
    "    # load hs/tp data\n",
    "    # Loads Hs and Tp time series from cassandra, stores it as a pandas.DataFrame\n",
    "    client = resourcecode.Client()\n",
    "    wave_data = client.get_dataframe_from_url(url_widget.value, parameters=(\"hs\", \"tp\"))\n",
    "    # wave_data = wave_data[:2000]  # for testing\n",
    "    progress.value = 0.2\n",
    "    # create wave spectrum\n",
    "    # Creates JONSWAP wave spectrum time series from Hs and Tp time series\n",
    "    freq_vec = capture_width.index\n",
    "    spectrum = innosea.create_wave_spectrum(wave_data, freq_vec)\n",
    "    progress.value = 0.3\n",
    "    # set PTO\n",
    "    # PTO object, storing capture width, wave spectrum, and computing PTO data such as time\n",
    "    # series of wave power, absorbed power, mean power, median power, PTO damping\n",
    "    pto = innosea.PTO(capture_width, spectrum)\n",
    "    progress.value = 0.5\n",
    "    # plots\n",
    "    plot_time_series(pto)\n",
    "    progress.value = 0.8\n",
    "    plot_cumulative_power(pto)\n",
    "    progress.value = 1\n",
    "    with output_message:\n",
    "        clear_output()"
   ]
  },
  {
   "cell_type": "code",
   "execution_count": 7,
   "id": "d6d7818b-e4ee-4365-9c4c-137b42ab727b",
   "metadata": {},
   "outputs": [
    {
     "data": {
      "application/vnd.jupyter.widget-view+json": {
       "model_id": "b5f8159f1b7c4cd2b87f83e61388e657",
       "version_major": 2,
       "version_minor": 0
      },
      "text/plain": [
       "Button(description='Start', style=ButtonStyle())"
      ]
     },
     "metadata": {},
     "output_type": "display_data"
    },
    {
     "data": {
      "application/vnd.jupyter.widget-view+json": {
       "model_id": "c103fe882c00463e902e0ba3488ffee3",
       "version_major": 2,
       "version_minor": 0
      },
      "text/plain": [
       "Output()"
      ]
     },
     "metadata": {},
     "output_type": "display_data"
    },
    {
     "data": {
      "application/vnd.jupyter.widget-view+json": {
       "model_id": "c37e3d3255b94cf384967f083f51555a",
       "version_major": 2,
       "version_minor": 0
      },
      "text/plain": [
       "Output()"
      ]
     },
     "metadata": {},
     "output_type": "display_data"
    },
    {
     "data": {
      "application/vnd.jupyter.widget-view+json": {
       "model_id": "712e335d16264d7aa78347cf0652863a",
       "version_major": 2,
       "version_minor": 0
      },
      "text/plain": [
       "Output()"
      ]
     },
     "metadata": {},
     "output_type": "display_data"
    }
   ],
   "source": [
    "url_widget = widgets.Text(\n",
    "    value=\"\",\n",
    "    placeholder=\"Paste the URL of your selection\",\n",
    "    description=\"Selection:\",\n",
    "    disabled=False,\n",
    "    continuous_update=False,\n",
    ")\n",
    "\n",
    "compute_button = widgets.Button(description=\"Start\")\n",
    "display(url_widget)\n",
    "display(compute_button)\n",
    "compute_button.on_click(on_button_clicked)\n",
    "display(output_message)\n",
    "display(output_plot1)\n",
    "display(output_plot2)"
   ]
  }
 ],
 "metadata": {
  "kernelspec": {
   "display_name": "Python 3 (ipykernel)",
   "language": "python",
   "name": "python3"
  },
  "language_info": {
   "codemirror_mode": {
    "name": "ipython",
    "version": 3
   },
   "file_extension": ".py",
   "mimetype": "text/x-python",
   "name": "python",
   "nbconvert_exporter": "python",
   "pygments_lexer": "ipython3",
   "version": "3.7.3"
  }
 },
 "nbformat": 4,
 "nbformat_minor": 5
}
