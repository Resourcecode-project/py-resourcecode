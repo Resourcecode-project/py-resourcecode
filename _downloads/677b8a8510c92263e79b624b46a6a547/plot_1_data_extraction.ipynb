{
  "cells": [
    {
      "cell_type": "markdown",
      "metadata": {},
      "source": [
        "\n# Extract some time-series from the database and analysis\n"
      ]
    },
    {
      "cell_type": "code",
      "execution_count": null,
      "metadata": {
        "collapsed": false
      },
      "outputs": [],
      "source": [
        "import resourcecode\nimport resourcecode.spectrum\nimport matplotlib.pyplot as plot\n\nplot.rcParams[\"figure.dpi\"] = 400"
      ]
    },
    {
      "cell_type": "markdown",
      "metadata": {},
      "source": [
        "## Node selection and data extraction\nBelow, we will look for data next to the location of interest, located in the vicinity of Brest Bay.\nWe will look at the time-series data and also some spectral data\n\n\n"
      ]
    },
    {
      "cell_type": "code",
      "execution_count": null,
      "metadata": {
        "collapsed": false
      },
      "outputs": [],
      "source": [
        "selected_node = resourcecode.data.get_closest_point(\n    latitude=48.3026514, longitude=-4.6861533\n)\nselected_node"
      ]
    },
    {
      "cell_type": "code",
      "execution_count": null,
      "metadata": {
        "collapsed": false
      },
      "outputs": [],
      "source": [
        "selected_specPoint = resourcecode.data.get_closest_station(\n    latitude=48.3026514, longitude=-4.6861533\n)\nselected_specPoint"
      ]
    },
    {
      "cell_type": "markdown",
      "metadata": {},
      "source": [
        "## Extraction of data from the Hindcast database\n\n### Sea-state parameters extraction and helpers from the toolbox\n\nOnce the node is selected, it is possible to retrieve the data from the Cassandra database using the\ncommands below. It is also possible to select which variables to retrieve.\nThe list of available variables can be obtained using the `get_variables` method.\nWe study here the following variables:\n\n - $H_s$, the significant wave height;\n - $T_p$ the peak period;\n - $D_p$ the direction at peak frequency;\n - The energy flux $CgE$;\n - zonal and meridional velocity components of wind;\n\nFor this example, we have selectedonly year 2010.\n\n"
      ]
    },
    {
      "cell_type": "code",
      "execution_count": null,
      "metadata": {
        "collapsed": false
      },
      "outputs": [],
      "source": [
        "client = resourcecode.Client()\ndata = client.get_dataframe(\n    pointId=selected_node[0],\n    startDateTime=\"2010-01-01T01:00:00\",\n    endDateTime=\"2011-01-01T00:00:00\",\n    parameters=(\"hs\", \"uwnd\", \"vwnd\", \"t02\", \"tp\", \"dp\", \"cge\"),\n)\ndata.head()"
      ]
    },
    {
      "cell_type": "markdown",
      "metadata": {},
      "source": [
        "With the toolbox, is is possible to convert zonal and meridional velocity components of wind the the more\nconvenient Intensity-direction variables.\n\n"
      ]
    },
    {
      "cell_type": "code",
      "execution_count": null,
      "metadata": {
        "collapsed": false
      },
      "outputs": [],
      "source": [
        "data[\"wspd\"], data[\"wdir\"] = resourcecode.utils.zmcomp2metconv(data.uwnd, data.vwnd)"
      ]
    },
    {
      "cell_type": "markdown",
      "metadata": {},
      "source": [
        "The figure below is an example of the histograme of the variables that can be\nextracted from the database. $H_s$,$T_p$, $W_s$ and $CgE$ are\nshown here with the wind and wave directions, but the code can be changed to plot any\nof the available variables in the Hindcast database.\n\n"
      ]
    },
    {
      "cell_type": "code",
      "execution_count": null,
      "metadata": {
        "collapsed": false
      },
      "outputs": [],
      "source": [
        "data[[\"hs\", \"tp\", \"cge\", \"wspd\", \"dp\", \"wdir\"]].hist(bins=15, figsize=[16, 8])\nplot.tight_layout()"
      ]
    },
    {
      "cell_type": "markdown",
      "metadata": {},
      "source": [
        "### Spectral data extraction and computation of sea-state parameters\n\nThe toolbox also offers the possibility to download the spectral data from the coarser 'SPEC' grid,\ncorresponding to the orange dots of the web portal. This is possible thanks to the `get_2D_spectrum` and\n`get_1D_spectrum` from the *spectrum* module. An example is shown below:\n\n"
      ]
    },
    {
      "cell_type": "code",
      "execution_count": null,
      "metadata": {
        "collapsed": false
      },
      "outputs": [],
      "source": [
        "spec = resourcecode.spectrum.get_2D_spectrum(\n    selected_specPoint[0], years=[\"2010\"], months=[\"01\"]\n)"
      ]
    },
    {
      "cell_type": "markdown",
      "metadata": {},
      "source": [
        "And we offer function to represent the spectral data, both for 2D and 1D spectrum.\n\n"
      ]
    },
    {
      "cell_type": "code",
      "execution_count": null,
      "metadata": {
        "collapsed": false
      },
      "outputs": [],
      "source": [
        "resourcecode.spectrum.plot_2D_spectrum(spec, 1)\nplot.show()"
      ]
    },
    {
      "cell_type": "markdown",
      "metadata": {},
      "source": [
        "There is also function to compute the 1D spectrum from the 2D.\n\n"
      ]
    },
    {
      "cell_type": "code",
      "execution_count": null,
      "metadata": {
        "collapsed": false
      },
      "outputs": [],
      "source": [
        "spec1D = resourcecode.spectrum.convert_spectrum_2Dto1D(spec)\nresourcecode.spectrum.plot_1D_spectrum(spec1D, 1, sea_state=False)"
      ]
    },
    {
      "cell_type": "markdown",
      "metadata": {},
      "source": [
        "Among the functionalities of the toolbox, it is possible to compute the sea-state parameters from spectral data. Small\ndiscrepancies can be found between the Hindcast sea-state parameters and the one computed with the toolbox.\n\n"
      ]
    },
    {
      "cell_type": "code",
      "execution_count": null,
      "metadata": {
        "collapsed": false
      },
      "outputs": [],
      "source": [
        "parameters_df = resourcecode.spectrum.compute_parameters_from_2D_spectrum(\n    spec, use_depth=True\n)\nparameters_df.head()"
      ]
    }
  ],
  "metadata": {
    "kernelspec": {
      "display_name": "Python 3",
      "language": "python",
      "name": "python3"
    },
    "language_info": {
      "codemirror_mode": {
        "name": "ipython",
        "version": 3
      },
      "file_extension": ".py",
      "mimetype": "text/x-python",
      "name": "python",
      "nbconvert_exporter": "python",
      "pygments_lexer": "ipython3",
      "version": "3.11.11"
    }
  },
  "nbformat": 4,
  "nbformat_minor": 0
}