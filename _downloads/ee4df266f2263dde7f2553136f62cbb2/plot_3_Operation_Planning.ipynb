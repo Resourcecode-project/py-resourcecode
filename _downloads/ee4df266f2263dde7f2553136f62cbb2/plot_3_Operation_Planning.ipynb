{
  "cells": [
    {
      "cell_type": "markdown",
      "metadata": {},
      "source": [
        "\n# Use-case example of the Operational Planning module\n"
      ]
    },
    {
      "cell_type": "markdown",
      "metadata": {},
      "source": [
        "In this page, we will present some of the functionalities offered by the toolbox\nfor operational planning and weather windows computations.\nHere, we will deal with the computation of empirical weather windows only, directly from the time series.\nThe examples are given using the Resourcecode data,\nbut of course any other data source can be used, e.g. in-situ data.\n\n.. seealso::\n    In addition, a demonstration tool based on this module can be accessed on\n    the Resourcecode Tools [web page](https://resourcecode.ifremer.fr/tools).\n\n"
      ]
    },
    {
      "cell_type": "code",
      "execution_count": null,
      "metadata": {
        "collapsed": false
      },
      "outputs": [],
      "source": [
        "import calendar\nimport matplotlib.pyplot as plt\nimport plotly.graph_objects as go\nimport resourcecode\nfrom resourcecode.opsplanning import ww_calc, wwmonstats, olmonstats, oplen_calc\nimport plotly.io as pio\n\npio.renderers.default = \"sphinx_gallery\"\n\nclient = resourcecode.Client()\npercentiles = [0.01, 0.05, 0.25, 0.5, 0.75, 0.95, 0.99]\nMONTH_NAMES = list(calendar.month_name)"
      ]
    },
    {
      "cell_type": "markdown",
      "metadata": {},
      "source": [
        "## Data extraction\n\nWe have selected a location next to Ushant island, node number `36855`\n\n"
      ]
    },
    {
      "cell_type": "code",
      "execution_count": null,
      "metadata": {
        "collapsed": false
      },
      "outputs": [],
      "source": [
        "data = client.get_dataframe_from_url(\n    \"https://resourcecode.ifremer.fr/explore?pointId=136855\", parameters=(\"hs\", \"tp\")\n)"
      ]
    },
    {
      "cell_type": "markdown",
      "metadata": {},
      "source": [
        "## Weather windows\n\nIn this module weather window is defined as uninterrupted window of given length,\nwhen the operational criteria are met.\nThe main deliverable is the number (count) of weather windows (and various statistics around the number).\nThe number of weather windows for a given period of time can be considered back-to-back\n(next window is considered after the end of pervious window)\nor for any timestamp - every timestamp is considered as potential start of a weather window.\n\n### Operational criteria\n\nWe assume here that the constraints are in terms of $H_s$ and $T_p$, although\nany constraint can be used, as soon as the data is available (e.g. wind or current speed, etc.).\nWe also need to define the length of the weather windows needed, defined in hours.\n\n"
      ]
    },
    {
      "cell_type": "code",
      "execution_count": null,
      "metadata": {
        "collapsed": false
      },
      "outputs": [],
      "source": [
        "criteria = \"hs < 1.8 and tp < 9\"\nwinlen = 3\ndata_matching_criteria = data.query(criteria)"
      ]
    },
    {
      "cell_type": "markdown",
      "metadata": {},
      "source": [
        "### Computation of weather windows\n\nNext, takes place the most important part of the module:\ncomputing the effective weather windows, and then compute monthly statistics.\n\n"
      ]
    },
    {
      "cell_type": "code",
      "execution_count": null,
      "metadata": {
        "collapsed": false
      },
      "outputs": [],
      "source": [
        "windetect = ww_calc(data_matching_criteria, winlen=winlen, concurrent_windows=False)\nresults = wwmonstats(windetect)\nstats = (\n    results.describe(percentiles=percentiles)\n    .drop([\"count\", \"std\"])\n    .transpose()\n    .sort_index()\n)"
      ]
    },
    {
      "cell_type": "markdown",
      "metadata": {},
      "source": [
        "### Plotting the monthly statistics\n\nLastly, we can produce some plots of the `stats` matrix. First of all, a static plot with some quantiles.\n\n"
      ]
    },
    {
      "cell_type": "code",
      "execution_count": null,
      "metadata": {
        "collapsed": false
      },
      "outputs": [],
      "source": [
        "plt.figure(figsize=(8, 5), layout=\"constrained\")\nplt.plot(MONTH_NAMES[1:], stats[\"mean\"], \"-o\", label=\"mean\")\nplt.plot(MONTH_NAMES[1:], stats[\"25%\"], \"-o\", label=\"25% quantile\")\nplt.plot(MONTH_NAMES[1:], stats[\"75%\"], \"-o\", label=\"75% quantile\")\nplt.xticks(rotation=45)\nplt.ylabel(\"Number of weather windows by month\")\nplt.legend()\nplt.show()"
      ]
    },
    {
      "cell_type": "markdown",
      "metadata": {},
      "source": [
        "We can also produce interactive plots to facilitate the visualisation.\n\n"
      ]
    },
    {
      "cell_type": "code",
      "execution_count": null,
      "metadata": {
        "collapsed": false
      },
      "outputs": [],
      "source": [
        "fig = go.Figure()\nfor colname in stats.columns:\n    fig.add_trace(\n        go.Scatter(\n            x=[MONTH_NAMES[i] for i in stats.index],\n            y=stats[colname],\n            name=colname,\n            legendgroup=\"by_month\",\n        )\n    )\n\nfig.update_xaxes(title_text=\"Month\")\nfig.update_yaxes(title_text=\"Number of Weather Window\")\nfig.update_layout(\n    height=800,\n    legend_tracegroupgap=130,\n    title=\"Monthly statistics of number of weather window (Concurrent)\",\n)\nfig"
      ]
    },
    {
      "cell_type": "markdown",
      "metadata": {},
      "source": [
        "## Operational planning\n\n\nThe operational length is how long will it take to carry out the operation of given nominal length,\nwhen taking into account weather downtime.\nOperational length is provided in units of time. When calculating the length,\noperations can be considered critical or non-critical.\nWith critical operations, the full operations have to restart if criteria is exceeded.\nWith non-critical operations, they can be paused for the bad weather\nand continued once the conditions meet the criteria.\n\n### Operational criteria\n\n"
      ]
    },
    {
      "cell_type": "code",
      "execution_count": null,
      "metadata": {
        "collapsed": false
      },
      "outputs": [],
      "source": [
        "criteria = \"hs < 1.8 and tp < 9\"\noplen = 12\ncritical_operation = False"
      ]
    },
    {
      "cell_type": "markdown",
      "metadata": {},
      "source": [
        "### Computation of operation durations\n\nOnce the criteria are defined, we can proceed to the estimation\n\n"
      ]
    },
    {
      "cell_type": "code",
      "execution_count": null,
      "metadata": {
        "collapsed": false
      },
      "outputs": [],
      "source": [
        "oplendetect = oplen_calc(data_matching_criteria, oplen, critical_operation)\nresults = olmonstats(oplendetect)\nstats = (\n    results.describe(percentiles=percentiles)\n    .drop([\"count\", \"std\"])\n    .transpose()\n    .sort_index()\n)"
      ]
    },
    {
      "cell_type": "markdown",
      "metadata": {},
      "source": [
        "And finally produce visual exploration of the durations.\n\n"
      ]
    },
    {
      "cell_type": "code",
      "execution_count": null,
      "metadata": {
        "collapsed": false
      },
      "outputs": [],
      "source": [
        "fig = go.Figure()\nfor colname in stats.columns:\n    fig.add_trace(\n        go.Scatter(\n            x=[MONTH_NAMES[i] for i in stats.index],\n            y=stats[colname],\n            name=colname,\n            legendgroup=\"by_month\",\n        ),\n    )\n\nfig.update_xaxes(title_text=\"Month\")\nfig.update_yaxes(title_text=\"Length of operations\")\nfig.update_layout(\n    height=800,\n    legend_tracegroupgap=130,\n    title=\"Monthly statistics of length of operations (non-critical operations)\",\n)\nfig"
      ]
    }
  ],
  "metadata": {
    "kernelspec": {
      "display_name": "Python 3",
      "language": "python",
      "name": "python3"
    },
    "language_info": {
      "codemirror_mode": {
        "name": "ipython",
        "version": 3
      },
      "file_extension": ".py",
      "mimetype": "text/x-python",
      "name": "python",
      "nbconvert_exporter": "python",
      "pygments_lexer": "ipython3",
      "version": "3.11.11"
    }
  },
  "nbformat": 4,
  "nbformat_minor": 0
}