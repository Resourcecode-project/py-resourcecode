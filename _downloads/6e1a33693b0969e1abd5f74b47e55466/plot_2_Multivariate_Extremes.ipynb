{
  "cells": [
    {
      "cell_type": "markdown",
      "metadata": {},
      "source": [
        "\n# Modelling multivariate extremes\n"
      ]
    },
    {
      "cell_type": "markdown",
      "metadata": {},
      "source": [
        "Extreme value modelling is a central topic in the design of offshore structures.\n\nIn this package, we used the Peaks Over Threshold (POT) approach:\nthe data above a defined threshold is kept, independent exceedances are identified based\non a time-separation criterion and a GPD distribution is fitted to the set of clusters maxima.\nThe particular case of Exponential distribution is selected using an AIC criterion.\nThis procedure is based on the excellent package [pyextremes](https://georgebv.github.io/pyextremes/).\n\nWe also propose in this package to compute multivariate extremes using the methodology described in\n[Raillard et al (2019)](https://archimer.ifremer.fr/doc/00498/60948/).\n\n.. seealso::\n    In addition, a demonstration tool based on this module can be accessed on\n    the Resourcecode Tools [web page](https://resourcecode.ifremer.fr/tools).\n\n"
      ]
    },
    {
      "cell_type": "code",
      "execution_count": null,
      "metadata": {
        "collapsed": false
      },
      "outputs": [],
      "source": [
        "import warnings\n\nimport numpy as np\nimport matplotlib.pyplot as plot\nimport resourcecode\nfrom resourcecode.eva import (\n    censgaussfit,\n    get_fitted_models,\n    get_gpd_parameters,\n    run_simulation,\n    huseby,\n)\nimport plotly.graph_objects as go\nimport plotly.io as pio\n\npio.renderers.default = \"sphinx_gallery\""
      ]
    },
    {
      "cell_type": "markdown",
      "metadata": {},
      "source": [
        "## Data extraction and univariate models\n\nWe have selected a location next to Ushant island, node number `36855` and we compute the wind intensity\nusing the :func:`resourcecode.utils.zmcomp2metconv` function of the package.\n\nWe also define here the tuning parameters for fitting the models to the data:\n   - quantile above which the model is fitted;\n   - de-clustering parameter, specified in hours.\n\nThen, we fit the **POT** model to the data.\n\n"
      ]
    },
    {
      "cell_type": "code",
      "execution_count": null,
      "metadata": {
        "collapsed": false
      },
      "outputs": [],
      "source": [
        "client = resourcecode.Client()\ndata = client.get_dataframe_from_url(\n    \"https://resourcecode.ifremer.fr/explore?pointId=136855\",\n    parameters=(\"hs\", \"uwnd\", \"vwnd\"),\n)\ndata[\"wspd\"], data[\"wdir\"] = resourcecode.utils.zmcomp2metconv(data.uwnd, data.vwnd)\n\n# Tuning parameters for the POT model\nquantile_fit = 0.95\nr = \"72H\"\nreturn_periods = np.array([1, 2, 5, 10, 25, 50, 100])\nmodels = get_fitted_models(data[[\"hs\", \"wspd\"]], quantile_fit, r)\ngpd_parameters = get_gpd_parameters(models)"
      ]
    },
    {
      "cell_type": "markdown",
      "metadata": {},
      "source": [
        "### Fitted model for $H_s$\n\nWe can plot the fitted model against the observations\n\n"
      ]
    },
    {
      "cell_type": "code",
      "execution_count": null,
      "metadata": {
        "collapsed": false
      },
      "outputs": [],
      "source": [
        "fig = models[0].plot_diagnostic()\nplot.show()"
      ]
    },
    {
      "cell_type": "markdown",
      "metadata": {},
      "source": [
        "Below, one can find the estimated return levels for $H_s$\n\n"
      ]
    },
    {
      "cell_type": "code",
      "execution_count": null,
      "metadata": {
        "collapsed": false
      },
      "outputs": [],
      "source": [
        "return_levels_Hs = models[0].get_summary(return_period=return_periods, alpha=0.95)\nreturn_levels_Hs"
      ]
    },
    {
      "cell_type": "markdown",
      "metadata": {},
      "source": [
        "### Fitted model for $W_s$\n\nThe diagnostic plots are below\n\n"
      ]
    },
    {
      "cell_type": "code",
      "execution_count": null,
      "metadata": {
        "collapsed": false
      },
      "outputs": [],
      "source": [
        "fig = models[1].plot_diagnostic()\nplot.show()"
      ]
    },
    {
      "cell_type": "markdown",
      "metadata": {},
      "source": [
        "Lastly, the estimated return levels for $W_s$\n\n"
      ]
    },
    {
      "cell_type": "code",
      "execution_count": null,
      "metadata": {
        "collapsed": false
      },
      "outputs": [],
      "source": [
        "return_levels_Wspd = models[1].get_summary(return_period=return_periods, alpha=0.95)\nreturn_levels_Wspd"
      ]
    },
    {
      "cell_type": "markdown",
      "metadata": {},
      "source": [
        "## Multivariate model: Gaussian copula\n\nWe will fit the censored Gaussian copula to estimate the joint distribution of extremes.\nthanks to the :func:`resourcecode.eva.censgaussfit` function.\n\n"
      ]
    },
    {
      "cell_type": "code",
      "execution_count": null,
      "metadata": {
        "collapsed": false
      },
      "outputs": [],
      "source": [
        "rho_nataf = censgaussfit(data[[\"hs\", \"wspd\"]].values, quantile_fit).x"
      ]
    },
    {
      "cell_type": "markdown",
      "metadata": {},
      "source": [
        "In the reference paper, they used the Huseby approach to compute environmental countours,\nwhich is a method based on monte-carlo simulation. The function func:`resourcecode.eva.run_simulation`\nis thus used to simulate from the fitted model, using the marginal distributions found earlier.\n\n"
      ]
    },
    {
      "cell_type": "code",
      "execution_count": null,
      "metadata": {
        "collapsed": false
      },
      "outputs": [],
      "source": [
        "nataf = run_simulation(rho_nataf, quantile_fit, gpd_parameters, n_simulations=1000000)"
      ]
    },
    {
      "cell_type": "markdown",
      "metadata": {},
      "source": [
        "## Environmental contours\n\nWe first have to define the appropriate level set for the Huseby method.#\nThey are defined using the number of **joint** excess of $H_s$ and $W_s$.\n\n"
      ]
    },
    {
      "cell_type": "code",
      "execution_count": null,
      "metadata": {
        "collapsed": false
      },
      "outputs": [],
      "source": [
        "npy = data.query(\n    f\"hs>{models[0].extremes_kwargs['threshold']} and wspd>{models[1].extremes_kwargs['threshold']}\"\n).shape[0] / (np.unique(data.index.year).size)\nlevels = 1 - 1 / (return_periods * npy)"
      ]
    },
    {
      "cell_type": "markdown",
      "metadata": {},
      "source": [
        "We can then use the :func:`resourcecode.eva.huseby` function to effectively compute the contours.\nThe value of `120` can be changed to obtain smoother contours, at the price of higher computationnal cost.\n\n"
      ]
    },
    {
      "cell_type": "code",
      "execution_count": null,
      "metadata": {
        "collapsed": false
      },
      "outputs": [],
      "source": [
        "with warnings.catch_warnings():\n    warnings.simplefilter(\"ignore\")\n    # on some cases, we may divide by zero, and numpy warns us\n    # about that. Let's hide this warning to the users.\n    X, Y, theta = huseby(nataf, levels, 120)"
      ]
    },
    {
      "cell_type": "markdown",
      "metadata": {},
      "source": [
        "Lastly, we can plot the contours, here single lines.\n\n"
      ]
    },
    {
      "cell_type": "code",
      "execution_count": null,
      "metadata": {
        "collapsed": false
      },
      "outputs": [],
      "source": [
        "fig = go.Figure()\n\nfig.add_traces(\n    [\n        go.Scatter(\n            x=X[:, i],\n            y=Y[:, i],\n            mode=\"lines\",\n            name=str(retlev),\n        )\n        for i, retlev in enumerate(return_periods)\n    ]\n)\n\nfig.update_layout(\n    scene=dict(\n        xaxis_title=data.columns[0],\n        yaxis_title=data.columns[1],\n        zaxis_title=data.columns[2],\n    ),\n    height=1200,\n)\nfig"
      ]
    }
  ],
  "metadata": {
    "kernelspec": {
      "display_name": "Python 3",
      "language": "python",
      "name": "python3"
    },
    "language_info": {
      "codemirror_mode": {
        "name": "ipython",
        "version": 3
      },
      "file_extension": ".py",
      "mimetype": "text/x-python",
      "name": "python",
      "nbconvert_exporter": "python",
      "pygments_lexer": "ipython3",
      "version": "3.11.11"
    }
  },
  "nbformat": 4,
  "nbformat_minor": 0
}