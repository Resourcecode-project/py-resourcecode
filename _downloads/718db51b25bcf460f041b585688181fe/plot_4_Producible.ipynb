{
  "cells": [
    {
      "cell_type": "markdown",
      "metadata": {},
      "source": [
        "\n# Estimation of producible energy\n\nIn this example, we will estimate WEC energy production using the ResourceCode hindcast\ndata as an input and capture width data of a standard WEC to simulate the behaviour and estimate\nenergy that can be harvested with this device from the slected location.\n"
      ]
    },
    {
      "cell_type": "markdown",
      "metadata": {},
      "source": [
        ".. seealso::\n   In addition, a demonstration tool based on this module can be accessed on\n   the Resourcecode Tools [web page](https://resourcecode.ifremer.fr/tools).\n\n"
      ]
    },
    {
      "cell_type": "code",
      "execution_count": null,
      "metadata": {
        "collapsed": false
      },
      "outputs": [],
      "source": [
        "import pandas as pd\nimport numpy as np\nfrom pathlib import Path\nimport matplotlib.pyplot as plt\nimport resourcecode\nfrom resourcecode import producible_assessment\nfrom resourcecode.spectrum import compute_jonswap_wave_spectrum\nimport warnings\n\nwarnings.filterwarnings(\"ignore\")\nplt.rcParams[\"figure.dpi\"] = 400\n# sphinx_gallery_thumbnail_number = 2"
      ]
    },
    {
      "cell_type": "markdown",
      "metadata": {},
      "source": [
        "## Load WEC characteristics: PTO, capture width and corresponding frequencies\nDefault characteristics are provided with the package, but the user is free to change it to use a specific device.\n\n"
      ]
    },
    {
      "cell_type": "code",
      "execution_count": null,
      "metadata": {
        "collapsed": false
      },
      "outputs": [],
      "source": [
        "DATA_DIR = Path(producible_assessment.__file__).parent / \"Inputs\"\ncapture_width = pd.read_csv(DATA_DIR / \"capture_width.csv\", delimiter=\",\", header=None)\nfreq = pd.read_csv(DATA_DIR / \"Frequencies.csv\", delimiter=\",\", header=None)\npto_data = pd.read_csv(DATA_DIR / \"PTO_values.csv\", delimiter=\",\", header=None)\ncapture_width.columns = pto_data.values.tolist()[0]\ncapture_width.index = [val for sublist in freq.values.tolist() for val in sublist]"
      ]
    },
    {
      "cell_type": "markdown",
      "metadata": {},
      "source": [
        "Plot of the characteristics of the WEC\n\n"
      ]
    },
    {
      "cell_type": "code",
      "execution_count": null,
      "metadata": {
        "collapsed": false
      },
      "outputs": [],
      "source": [
        "fig = plt.figure(figsize=(8, 8))\nax = plt.gca()\nplt.xlabel(\"Frequency\")\nplt.ylabel(\"PTO\")\nimg = ax.matshow(capture_width.to_numpy())\nfig.colorbar(img, fraction=0.08, pad=0.03)\nplt.title(\"Capture width\")\nplt.show()"
      ]
    },
    {
      "cell_type": "markdown",
      "metadata": {},
      "source": [
        "We then extract the time series of 1D wave spectra from the\nRESOURCECODE database, using the :func:`resourcecode.spectrum.download_data.get_1D_spectrum` function.\nFor this example, we used the data from the SEMREVO location.\nWe only need the frequency spectrum in this case, so we convert it to a pandas DataFrame.\n\n"
      ]
    },
    {
      "cell_type": "code",
      "execution_count": null,
      "metadata": {
        "collapsed": false
      },
      "outputs": [],
      "source": [
        "spec1D = resourcecode.spectrum.download_data.get_1D_spectrum(\n    \"SEMREVO\", [\"2014\"], [\"02\"]\n)\nspec = spec1D.ef.to_pandas()\n\n# The frequency has been truncated, so here we reconcile both\nspec.columns = capture_width.index"
      ]
    },
    {
      "cell_type": "markdown",
      "metadata": {},
      "source": [
        "We propose here to compare with the PTO estimated using a JONSWAP approximation,\nso we need the sea-state parameters data to compute the JONSWAP spectrum.\n\n"
      ]
    },
    {
      "cell_type": "code",
      "execution_count": null,
      "metadata": {
        "collapsed": false
      },
      "outputs": [],
      "source": [
        "client = resourcecode.Client()\nwave_data = client.get_dataframe(\n    pointId=119947,\n    startDateTime=\"2014-02-01T00:00:00\",\n    endDateTime=\"2014-02-28T23:00:00\",\n    parameters=(\"hs\", \"tp\"),\n)\n\nfreq_vec = capture_width.index\njonswap = compute_jonswap_wave_spectrum(wave_data, freq_vec)"
      ]
    },
    {
      "cell_type": "markdown",
      "metadata": {},
      "source": [
        "Once the spectral data is available, one can estimate the Power Take-off (PTO) of the WEC.\n\n"
      ]
    },
    {
      "cell_type": "code",
      "execution_count": null,
      "metadata": {
        "collapsed": false
      },
      "outputs": [],
      "source": [
        "pto_jonswap = producible_assessment.PTO(capture_width, jonswap)\npto = producible_assessment.PTO(capture_width, spec)"
      ]
    },
    {
      "cell_type": "markdown",
      "metadata": {},
      "source": [
        "Plot PTO results time series in 3 subplots where we can compare the estimation with or without the\nJONSWAP approximation: wave power, absorbed/mean power\nwith reduction factor, PTO damping with reduction factor.\nPower is converted from W to kW, damping from Ns/m to kNs/m.\n\n"
      ]
    },
    {
      "cell_type": "code",
      "execution_count": null,
      "metadata": {
        "collapsed": false
      },
      "outputs": [],
      "source": [
        "# plot wave power\nfig, (ax1, ax2, ax3) = plt.subplots(3, 1, figsize=(10, 10))\nax1.plot(pto.wave_power.div(1000 * pto.width))\nax1.plot(pto_jonswap.wave_power.div(1000 * pto_jonswap.width))\nax1.legend([\"Wave power\", \"Wave power (JONWSAP approximation)\"])\nax1.grid()\nax1.set(xlabel=\"Time\", ylabel=\"Power (kW/m)\")\n# absorbed/mean power\nall_time_series = [\n    pto.power,\n    pto_jonswap.power,\n    pto.mean_power,\n    pto_jonswap.mean_power,\n]\nlinestyles = [\"solid\", \"dashed\", \"solid\", \"dashed\"]\nfor time_series, linestyle in zip(all_time_series, linestyles):\n    ax2.plot(time_series.div(1000), linestyle=linestyle)\nax2.legend(\n    [\n        \"Absorbed power (with reduction factor)\",\n        \"Absorbed power (JONWSAP approximation)\",\n        \"Mean power (with reduction factor)\",\n        \"Mean power (JONWSAP approximation)\",\n    ]\n)\nax2.grid()\nax2.set(xlabel=\"Time\", ylabel=\"Power (kW)\")\n# PTO damping\nall_time_series = [pto.pto_damp, pto_jonswap.pto_damp]\nfor time_series, linestyle in zip(all_time_series, linestyles):\n    ax3.plot(time_series.div(1000), linestyle=linestyle)\nax3.legend(\n    [\n        \"PTO damping (with reduction factor)\",\n        \"PTO damping (JONWSAP approximation)\",\n    ]\n)\nax3.grid()\nax3.set(xlabel=\"Time\", ylabel=\"Damping (kN.s/m)\")\nplt.tight_layout()"
      ]
    },
    {
      "cell_type": "markdown",
      "metadata": {},
      "source": [
        "The plots below show the repartition of WEC power in the two cases considered and\nthe histogram of corresponding damping.\n\n"
      ]
    },
    {
      "cell_type": "code",
      "execution_count": null,
      "metadata": {
        "collapsed": false
      },
      "outputs": [],
      "source": [
        "fig, ((ax1, ax2), (ax3, ax4)) = plt.subplots(2, 2, figsize=(10, 10))\n# absorbed power\npower_kw = pto.power.div(1000)\n# cumulative power\ncumulative_power_kw = pto.cumulative_power\npower_ordered = pto.power.sort_values(by=0)\nindex = [x / 1000 for x in power_ordered[0]]\ncumulative_power_kw.index = index\n# mean power\nmean_power_kw = pto.mean_power[0][pto.times[0]] / 1000\n# median power\nmedian_power_kw = pto.median_power[0][pto.times[0]] / 1000\n# power occurrences, cumulative power, mean and median power\nax1 = power_kw.plot.hist(\n    ax=ax1,\n    bins=len(pto.capture_width.columns) * 5,\n    legend=False,\n    weights=np.ones_like(power_kw[power_kw.columns[0]]) * 100.0 / len(power_kw),\n)\nax1b = ax1.twinx()\ncumulative_power_kw.plot(ax=ax1b, legend=False, color=\"r\")\nax1.grid()\nax1.set_xlabel(\"WEC Power (kW)\")\nax1.set_ylabel(\"Occurrence (%)\")\nax1b.set_ylabel(\"Normed Cumulative Production (%)\")\nline_mean = ax1.axvline(x=mean_power_kw, color=\"y\")\nline_median = ax1.axvline(x=median_power_kw, color=\"orange\")\nax1.legend([line_mean, line_median], [\"Mean power\", \"Median power\"], loc=\"center right\")\n\n# plot PTO histogram\npto_damp_kn = pto.pto_damp / 1000\npto_damp_kn.plot.hist(\n    ax=ax2,\n    bins=len(pto.capture_width.columns),\n    legend=False,\n    weights=np.ones_like(pto_damp_kn[pto_damp_kn.columns[0]])\n    * 100.0\n    / len(pto_damp_kn),\n)\nax2.grid()\nax2.set_xlabel(\"PTO damping (kN.s/m)\")\nax2.set_ylabel(\"Occurrence (%)\")\n\n# absorbed power (JONWSAP)\npower_kw = pto_jonswap.power.div(1000)\n# cumulative power\ncumulative_power_kw = pto_jonswap.cumulative_power\npower_ordered = pto_jonswap.power.sort_values(by=0)\nindex = [x / 1000 for x in power_ordered[0]]\ncumulative_power_kw.index = index\n# mean power\nmean_power_kw = pto_jonswap.mean_power[0][pto_jonswap.times[0]] / 1000\n# median power\nmedian_power_kw = pto_jonswap.median_power[0][pto_jonswap.times[0]] / 1000\n# power occurrences, cumulative power, mean and median power\nax3 = power_kw.plot.hist(\n    ax=ax3,\n    bins=len(pto_jonswap.capture_width.columns) * 5,\n    legend=False,\n    weights=np.ones_like(power_kw[power_kw.columns[0]]) * 100.0 / len(power_kw),\n)\nax3b = ax3.twinx()\ncumulative_power_kw.plot(ax=ax3b, legend=False, color=\"r\")\nax3.grid()\nax3.set_xlabel(\"WEC Power (kW)  - JONWSAP\")\nax3.set_ylabel(\"Occurrence (%)\")\nax3b.set_ylabel(\"Normed Cumulative Production (%)\")\nline_mean = ax3.axvline(x=mean_power_kw, color=\"y\")\nline_median = ax3.axvline(x=median_power_kw, color=\"orange\")\nax3.legend([line_mean, line_median], [\"Mean power\", \"Median power\"], loc=\"center right\")\n\n# plot PTO histogram\npto_damp_kn = pto_jonswap.pto_damp / 1000\npto_damp_kn.plot.hist(\n    ax=ax4,\n    bins=len(pto.capture_width.columns),\n    legend=False,\n    weights=np.ones_like(pto_damp_kn[pto_damp_kn.columns[0]])\n    * 100.0\n    / len(pto_damp_kn),\n)\nax4.grid()\nax4.set_xlabel(\"PTO damping (kN.s/m) - JONWSAP\")\nax4.set_ylabel(\"Occurrence (%)\")\nplt.tight_layout()"
      ]
    }
  ],
  "metadata": {
    "kernelspec": {
      "display_name": "Python 3",
      "language": "python",
      "name": "python3"
    },
    "language_info": {
      "codemirror_mode": {
        "name": "ipython",
        "version": 3
      },
      "file_extension": ".py",
      "mimetype": "text/x-python",
      "name": "python",
      "nbconvert_exporter": "python",
      "pygments_lexer": "ipython3",
      "version": "3.11.11"
    }
  },
  "nbformat": 4,
  "nbformat_minor": 0
}