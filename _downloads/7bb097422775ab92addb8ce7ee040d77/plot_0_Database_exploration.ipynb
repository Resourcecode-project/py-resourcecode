{
  "cells": [
    {
      "cell_type": "markdown",
      "metadata": {},
      "source": [
        "\n# Visualize the database configuration: nodes, bathymetry...\n"
      ]
    },
    {
      "cell_type": "code",
      "execution_count": null,
      "metadata": {
        "collapsed": false
      },
      "outputs": [],
      "source": [
        "import resourcecode\nimport numpy as np\nimport matplotlib.pyplot as plot\nimport matplotlib.tri as mtri\nfrom mpl_toolkits.axes_grid1.axes_divider import make_axes_locatable\n\nplot.rcParams[\"figure.dpi\"] = 400"
      ]
    },
    {
      "cell_type": "markdown",
      "metadata": {},
      "source": [
        "## Select a node and plot the mesh around\n\nBelow is an extract of the nodes locations and characteristics.\n\n"
      ]
    },
    {
      "cell_type": "code",
      "execution_count": null,
      "metadata": {
        "collapsed": false
      },
      "outputs": [],
      "source": [
        "resourcecode.data.get_grid_field()"
      ]
    },
    {
      "cell_type": "markdown",
      "metadata": {},
      "source": [
        "One can also obtain the location of the points where the full 2D spectral data is available using\n`resourcecode.get_grid_spec()` function\n\n"
      ]
    },
    {
      "cell_type": "code",
      "execution_count": null,
      "metadata": {
        "collapsed": false
      },
      "outputs": [],
      "source": [
        "resourcecode.get_grid_spec()"
      ]
    },
    {
      "cell_type": "markdown",
      "metadata": {},
      "source": [
        "Usually, we know the coordinates of the point we want to look at.\nIt is possible to find the closest node from this location, using the\nfollowing function. It return a vector of dimension two, with the node number and the distance from\nthe requested location (in meters).\n\n"
      ]
    },
    {
      "cell_type": "code",
      "execution_count": null,
      "metadata": {
        "collapsed": false
      },
      "outputs": [],
      "source": [
        "# We select the closest node from given coordinates\nselected_node = resourcecode.data.get_closest_point(\n    latitude=48.3026514, longitude=-4.6861533\n)\nselected_node"
      ]
    },
    {
      "cell_type": "markdown",
      "metadata": {},
      "source": [
        "Once the node is selected, it is possible to print a map of the area.\n\n"
      ]
    },
    {
      "cell_type": "code",
      "execution_count": null,
      "metadata": {
        "collapsed": false
      },
      "outputs": [],
      "source": [
        "lat_min, lat_max = 47.75, 48.75\nlon_min, lon_max = -5.25, -4.25\n\nnodes = resourcecode.data.get_grid_field().query(\n    f\"latitude <= {lat_max} and latitude >= {lat_min} and longitude > {lon_min} and longitude < {lon_max}\"\n)\nspec = resourcecode.get_grid_spec().query(\n    f\"latitude <= {lat_max} and latitude >= {lat_min} and longitude > {lon_min} and longitude < {lon_max}\"\n)\ncoast = resourcecode.data.get_coastline().query(\n    f\"latitude <= {lat_max} and latitude >= {lat_min} and longitude > {lon_min} and longitude < {lon_max}\"\n)\nislands = resourcecode.data.get_islands().query(\n    f\"latitude <= {lat_max} and latitude >= {lat_min} and longitude > {lon_min} and longitude < {lon_max}\"\n)\nplot.figure(figsize=(10, 10))\nplot.scatter(nodes.longitude, nodes.latitude, s=1, label=\"Nodes\")\nplot.scatter(spec.longitude, spec.latitude, s=2, color=\"orange\", label=\"Spectral grid\")\nplot.ylim(lat_min, lat_max)\nplot.xlim(lon_min, lon_max)\nplot.plot(coast.longitude, coast.latitude, color=\"black\")\nclasses = list(islands.ID.unique())\nfor c in classes:\n    df2 = islands.loc[islands[\"ID\"] == c]\n    plot.plot(df2.longitude, df2.latitude, color=\"black\")\nplot.scatter(\n    nodes[nodes.node == selected_node[0]].longitude,\n    nodes[nodes.node == selected_node[0]].latitude,\n    s=3,\n    color=\"red\",\n    label=\"Selected point\",\n)\nplot.legend()\nplot.show()"
      ]
    },
    {
      "cell_type": "markdown",
      "metadata": {},
      "source": [
        "####################################################################\n\n## Plot of bathymetry next to the selected point\n\nThe data included in the toolbox alows to easily map the depth anywhere on the covered area. The following piece\nof code shows and example of such a map.\n\n"
      ]
    },
    {
      "cell_type": "code",
      "execution_count": null,
      "metadata": {
        "collapsed": false
      },
      "outputs": [],
      "source": [
        "# Importing the data for plotting\ntri = (\n    resourcecode.get_triangles().to_numpy() - 1\n)  # The '-1' is due to the Zero-based numbering of python\nfield_mesh = resourcecode.data.get_grid_field().to_numpy()\ntriang = mtri.Triangulation(field_mesh[:, 1], field_mesh[:, 2], tri)\n\nplotted_nodes = (\n    (field_mesh[:, 1] <= lon_max)\n    & (field_mesh[:, 1] >= lon_min)\n    & (field_mesh[:, 2] <= lat_max)\n    & (field_mesh[:, 2] >= lat_min)\n)\n\ns = field_mesh[:, 3]\ns[np.isnan(s)] = 0  # Due to missing values in bathy\n\nfig = plot.figure(figsize=(10, 10))\n\nax0 = fig.add_subplot(111, aspect=\"equal\")\n\nplot.ylim(lat_min, lat_max)\nplot.xlim(lon_min, lon_max)\nSC = ax0.tripcolor(triang, s, shading=\"gouraud\")\nSC.set_clim(min(s[plotted_nodes]), max(s[plotted_nodes]))\n# Plot selected location\nplot.scatter(\n    nodes[nodes.node == selected_node[0]].longitude,\n    nodes[nodes.node == selected_node[0]].latitude,\n    s=3,\n    color=\"red\",\n    label=\"Selected point\",\n)\n# Add coastlines and islands\nplot.plot(coast.longitude, coast.latitude, color=\"black\")\nclasses = list(islands.ID.unique())\nfor c in classes:\n    df2 = islands.loc[islands[\"ID\"] == c]\n    plot.plot(df2.longitude, df2.latitude, color=\"black\")\n\n# Colorbar.\nthe_divider = make_axes_locatable(ax0)\ncolor_axis = the_divider.append_axes(\"right\", size=\"5%\", pad=0.1)\ncbar = plot.colorbar(SC, cax=color_axis)\ncbar.set_label(\"Depth (m)\", fontsize=18)\nplot.show()"
      ]
    }
  ],
  "metadata": {
    "kernelspec": {
      "display_name": "Python 3",
      "language": "python",
      "name": "python3"
    },
    "language_info": {
      "codemirror_mode": {
        "name": "ipython",
        "version": 3
      },
      "file_extension": ".py",
      "mimetype": "text/x-python",
      "name": "python",
      "nbconvert_exporter": "python",
      "pygments_lexer": "ipython3",
      "version": "3.11.11"
    }
  },
  "nbformat": 4,
  "nbformat_minor": 0
}